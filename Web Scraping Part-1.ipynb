{
 "cells": [
  {
   "cell_type": "code",
   "execution_count": 39,
   "id": "ad7810d2",
   "metadata": {},
   "outputs": [],
   "source": [
    "import pandas as pd"
   ]
  },
  {
   "cell_type": "code",
   "execution_count": 40,
   "id": "f0038cfc",
   "metadata": {},
   "outputs": [],
   "source": [
    "import numpy as np\n"
   ]
  },
  {
   "cell_type": "code",
   "execution_count": 41,
   "id": "09d4fdbb",
   "metadata": {},
   "outputs": [],
   "source": [
    "from bs4 import BeautifulSoup as sp\n",
    "from urllib.request import urlopen"
   ]
  },
  {
   "cell_type": "code",
   "execution_count": 52,
   "id": "9f4e26ad",
   "metadata": {},
   "outputs": [],
   "source": [
    "url = \"https://www.flipkart.com/search?q=iphone&otracker=search&otracker1=search&marketplace=FLIPKART&as-show=on&as=off\""
   ]
  },
  {
   "cell_type": "code",
   "execution_count": 53,
   "id": "20ff0ab5",
   "metadata": {},
   "outputs": [],
   "source": [
    "uClient = urlopen(url)\n",
    "page_html = uClient.read()\n",
    "uClient.close()"
   ]
  },
  {
   "cell_type": "code",
   "execution_count": 54,
   "id": "e34fb623",
   "metadata": {},
   "outputs": [],
   "source": [
    "page_soup = sp(page_html,\"html.parser\")"
   ]
  },
  {
   "cell_type": "code",
   "execution_count": 55,
   "id": "f788c643",
   "metadata": {},
   "outputs": [],
   "source": [
    "container = page_soup.find_all(\"div\",{\"class\":\"_2kHMtA\"})"
   ]
  },
  {
   "cell_type": "code",
   "execution_count": 56,
   "id": "bad4f8aa",
   "metadata": {},
   "outputs": [
    {
     "name": "stdout",
     "output_type": "stream",
     "text": [
      "<div class=\"_2kHMtA\">\n",
      " <a class=\"_1fQZEK\" href=\"/apple-iphone-12-mini-black-64-gb/p/itm38b727191eb08?pid=MOBFWBYZXSEGBS6F&amp;lid=LSTMOBFWBYZXSEGBS6FTONJ6W&amp;marketplace=FLIPKART&amp;q=iphone&amp;store=tyy%2F4io&amp;srno=s_1_1&amp;otracker=search&amp;otracker1=search&amp;fm=organic&amp;iid=9cb6a128-e861-4e47-a9ba-a1c4ff76de7c.MOBFWBYZXSEGBS6F.SEARCH&amp;ppt=None&amp;ppn=None&amp;ssid=riqqqkya340000001671624848872&amp;qH=0b3f45b266a97d70\" rel=\"noopener noreferrer\" target=\"_blank\">\n",
      "  <div class=\"MIXNux\">\n",
      "   <div class=\"_2QcLo-\">\n",
      "    <div>\n",
      "     <div class=\"CXW8mj\" style=\"height:200px;width:200px\">\n",
      "      <img alt=\"APPLE iPhone 12 mini (Black, 64 GB)\" class=\"_396cs4 _3exPp9\" src=\"https://rukminim1.flixcart.com/image/312/312/kg8avm80/mobile/n/p/d/apple-iphone-12-mini-dummyapplefsn-original-imafwgbfwkfrerak.jpeg?q=70\"/>\n",
      "     </div>\n",
      "    </div>\n",
      "   </div>\n",
      "   <div class=\"_3wLduG\">\n",
      "    <div class=\"_3PzNI-\">\n",
      "     <span class=\"f3A4_V\">\n",
      "      <label class=\"_2iDkf8\">\n",
      "       <input class=\"_30VH1S\" readonly=\"\" type=\"checkbox\"/>\n",
      "       <div class=\"_24_Dny\">\n",
      "       </div>\n",
      "      </label>\n",
      "     </span>\n",
      "     <label class=\"_6Up2sF\">\n",
      "      <span>\n",
      "       Add to Compare\n",
      "      </span>\n",
      "     </label>\n",
      "    </div>\n",
      "   </div>\n",
      "   <div class=\"_2hVSre _3nq8ih\">\n",
      "    <div class=\"_36FSn5\">\n",
      "     <svg class=\"_1l0elc\" height=\"16\" viewbox=\"0 0 20 16\" width=\"16\" xmlns=\"http://www.w3.org/2000/svg\">\n",
      "      <path class=\"eX72wL\" d=\"M8.695 16.682C4.06 12.382 1 9.536 1 6.065 1 3.219 3.178 1 5.95 1c1.566 0 3.069.746 4.05 1.915C10.981 1.745 12.484 1 14.05 1 16.822 1 19 3.22 19 6.065c0 3.471-3.06 6.316-7.695 10.617L10 17.897l-1.305-1.215z\" fill=\"#2874F0\" fill-rule=\"evenodd\" opacity=\".9\" stroke=\"#FFF\">\n",
      "      </path>\n",
      "     </svg>\n",
      "    </div>\n",
      "   </div>\n",
      "  </div>\n",
      "  <div class=\"_3pLy-c row\">\n",
      "   <div class=\"col col-7-12\">\n",
      "    <div class=\"_4rR01T\">\n",
      "     APPLE iPhone 12 mini (Black, 64 GB)\n",
      "    </div>\n",
      "    <div class=\"gUuXy-\">\n",
      "     <span class=\"_1lRcqv\" id=\"productRating_LSTMOBFWBYZXSEGBS6FTONJ6W_MOBFWBYZXSEGBS6F_\">\n",
      "      <div class=\"_3LWZlK\">\n",
      "       4.5\n",
      "       <img class=\"_1wB99o\" src=\"data:image/svg+xml;base64,PHN2ZyB4bWxucz0iaHR0cDovL3d3dy53My5vcmcvMjAwMC9zdmciIHdpZHRoPSIxMyIgaGVpZ2h0PSIxMiI+PHBhdGggZmlsbD0iI0ZGRiIgZD0iTTYuNSA5LjQzOWwtMy42NzQgMi4yMy45NC00LjI2LTMuMjEtMi44ODMgNC4yNTQtLjQwNEw2LjUuMTEybDEuNjkgNC4wMSA0LjI1NC40MDQtMy4yMSAyLjg4Mi45NCA0LjI2eiIvPjwvc3ZnPg==\"/>\n",
      "      </div>\n",
      "     </span>\n",
      "     <span class=\"_2_R_DZ\">\n",
      "      <span>\n",
      "       <span>\n",
      "        1,21,001 Ratings\n",
      "       </span>\n",
      "       <span class=\"_13vcmD\">\n",
      "        &amp;\n",
      "       </span>\n",
      "       <span>\n",
      "        9,696 Reviews\n",
      "       </span>\n",
      "      </span>\n",
      "     </span>\n",
      "    </div>\n",
      "    <div class=\"fMghEO\">\n",
      "     <ul class=\"_1xgFaf\">\n",
      "      <li class=\"rgWa7D\">\n",
      "       64 GB ROM\n",
      "      </li>\n",
      "      <li class=\"rgWa7D\">\n",
      "       13.72 cm (5.4 inch) Super Retina XDR Display\n",
      "      </li>\n",
      "      <li class=\"rgWa7D\">\n",
      "       12MP + 12MP | 12MP Front Camera\n",
      "      </li>\n",
      "      <li class=\"rgWa7D\">\n",
      "       A14 Bionic Chip with Next Generation Neural Engine Processor\n",
      "      </li>\n",
      "      <li class=\"rgWa7D\">\n",
      "       Ceramic Shield\n",
      "      </li>\n",
      "      <li class=\"rgWa7D\">\n",
      "       Industry-leading IP68 Water Resistance\n",
      "      </li>\n",
      "      <li class=\"rgWa7D\">\n",
      "       All Screen OLED Display\n",
      "      </li>\n",
      "      <li class=\"rgWa7D\">\n",
      "       12MP TrueDepth Front Camera with Night Mode, 4K Dolby Vision HDR Recording\n",
      "      </li>\n",
      "      <li class=\"rgWa7D\">\n",
      "       Brand Warranty for 1 Year\n",
      "      </li>\n",
      "     </ul>\n",
      "    </div>\n",
      "   </div>\n",
      "   <div class=\"col col-5-12 nlI3QM\">\n",
      "    <div class=\"_3tbKJL\">\n",
      "     <div class=\"_25b18c\">\n",
      "      <div class=\"_30jeq3 _1_WHN1\">\n",
      "       ₹37,999\n",
      "      </div>\n",
      "      <div class=\"_3I9_wc _27UcVY\">\n",
      "       ₹\n",
      "       <!-- -->\n",
      "       59,900\n",
      "      </div>\n",
      "      <div class=\"_3Ay6Sb\">\n",
      "       <span>\n",
      "        36% off\n",
      "       </span>\n",
      "      </div>\n",
      "     </div>\n",
      "     <div class=\"_3tcB5a p8ucoS\">\n",
      "      <div>\n",
      "       <div class=\"_2Tpdn3\" style=\"color:#000000;font-size:12px;font-weight:400\">\n",
      "        Free delivery\n",
      "       </div>\n",
      "      </div>\n",
      "     </div>\n",
      "    </div>\n",
      "    <div class=\"_13J9qT\">\n",
      "     <img height=\"21\" src=\"//static-assets-web.flixcart.com/fk-p-linchpin-web/fk-cp-zion/img/fa_62673a.png\"/>\n",
      "    </div>\n",
      "    <div class=\"_2ZdXDB\">\n",
      "     <div class=\"_3xFhiH\">\n",
      "      <div class=\"_2Tpdn3 _18hQoS\" style=\"color:#26A541;font-size:12px;font-weight:700\">\n",
      "       Top Discount on Sale\n",
      "      </div>\n",
      "     </div>\n",
      "    </div>\n",
      "    <div class=\"_2ZdXDB\">\n",
      "     <div class=\"_3xFhiH\">\n",
      "      <div class=\"_2Tpdn3 _18hQoS\" style=\"color:#000000;font-size:14px;font-style:normal;font-weight:400\">\n",
      "       Upto\n",
      "      </div>\n",
      "      <div class=\"_2Tpdn3 _18hQoS\" style=\"color:#000000;font-size:14px;font-style:normal;font-weight:700\">\n",
      "       ₹17,500\n",
      "      </div>\n",
      "      <div class=\"_2Tpdn3 _18hQoS\" style=\"color:#000000;font-size:14px;font-style:normal;font-weight:400\">\n",
      "       Off on Exchange\n",
      "      </div>\n",
      "     </div>\n",
      "    </div>\n",
      "   </div>\n",
      "  </div>\n",
      " </a>\n",
      "</div>\n"
     ]
    }
   ],
   "source": [
    "con = container[0]\n",
    "\n",
    "print(sp.prettify(con))"
   ]
  },
  {
   "cell_type": "markdown",
   "id": "fcc1fd9c",
   "metadata": {},
   "source": [
    "# PRODUCT NAME\n"
   ]
  },
  {
   "cell_type": "code",
   "execution_count": 61,
   "id": "d126606b",
   "metadata": {},
   "outputs": [
    {
     "name": "stdout",
     "output_type": "stream",
     "text": [
      "APPLE iPhone 12 mini (Black, 64 GB)\n"
     ]
    },
    {
     "ename": "TypeError",
     "evalue": "'NoneType' object is not subscriptable",
     "output_type": "error",
     "traceback": [
      "\u001b[1;31m---------------------------------------------------------------------------\u001b[0m",
      "\u001b[1;31mTypeError\u001b[0m                                 Traceback (most recent call last)",
      "Input \u001b[1;32mIn [61]\u001b[0m, in \u001b[0;36m<cell line: 1>\u001b[1;34m()\u001b[0m\n\u001b[0;32m      1\u001b[0m \u001b[38;5;28;01mfor\u001b[39;00m co \u001b[38;5;129;01min\u001b[39;00m container:\n\u001b[1;32m----> 2\u001b[0m     product_name \u001b[38;5;241m=\u001b[39m \u001b[43mco\u001b[49m\u001b[38;5;241;43m.\u001b[39;49m\u001b[43mdiv\u001b[49m\u001b[38;5;241;43m.\u001b[39;49m\u001b[43mimg\u001b[49m\u001b[43m[\u001b[49m\u001b[38;5;124;43m\"\u001b[39;49m\u001b[38;5;124;43malt\u001b[39;49m\u001b[38;5;124;43m\"\u001b[39;49m\u001b[43m]\u001b[49m\n\u001b[0;32m      3\u001b[0m     \u001b[38;5;28mprint\u001b[39m(product_name)\n",
      "\u001b[1;31mTypeError\u001b[0m: 'NoneType' object is not subscriptable"
     ]
    }
   ],
   "source": [
    "for co in container:\n",
    "    product_name = co.div.img[\"alt\"]\n",
    "    print(product_name)"
   ]
  },
  {
   "cell_type": "code",
   "execution_count": 50,
   "id": "85926604",
   "metadata": {},
   "outputs": [
    {
     "name": "stdout",
     "output_type": "stream",
     "text": [
      "₹37,999\n",
      "₹62,999\n",
      "₹43,999\n",
      "₹62,999\n",
      "₹45,999\n",
      "₹62,999\n",
      "₹45,999\n",
      "₹37,999\n",
      "₹62,999\n",
      "₹69,999\n",
      "₹43,999\n",
      "₹69,999\n",
      "₹37,999\n",
      "₹43,999\n",
      "₹40,999\n",
      "₹62,999\n",
      "₹40,999\n",
      "₹45,999\n",
      "₹40,999\n",
      "₹69,999\n",
      "₹88,199\n",
      "₹40,999\n",
      "₹45,999\n",
      "₹69,999\n"
     ]
    }
   ],
   "source": [
    "for co in container:\n",
    "    s_price = co.findAll(\"div\",{\"class\":\"_30jeq3 _1_WHN1\"})\n",
    "    print(s_price[0].text)"
   ]
  },
  {
   "cell_type": "code",
   "execution_count": 63,
   "id": "f8458e50",
   "metadata": {},
   "outputs": [
    {
     "name": "stdout",
     "output_type": "stream",
     "text": [
      "[<div class=\"_3I9_wc _27UcVY\">₹<!-- -->59,900</div>]\n",
      "[<div class=\"_3I9_wc _27UcVY\">₹<!-- -->69,900</div>]\n",
      "[<div class=\"_3I9_wc _27UcVY\">₹<!-- -->48,900</div>]\n",
      "[<div class=\"_3I9_wc _27UcVY\">₹<!-- -->69,900</div>]\n",
      "[<div class=\"_3I9_wc _27UcVY\">₹<!-- -->48,900</div>]\n",
      "[<div class=\"_3I9_wc _27UcVY\">₹<!-- -->69,900</div>]\n",
      "[<div class=\"_3I9_wc _27UcVY\">₹<!-- -->48,900</div>]\n",
      "[<div class=\"_3I9_wc _27UcVY\">₹<!-- -->59,900</div>]\n",
      "[<div class=\"_3I9_wc _27UcVY\">₹<!-- -->69,900</div>]\n",
      "[<div class=\"_3I9_wc _27UcVY\">₹<!-- -->79,900</div>]\n",
      "[<div class=\"_3I9_wc _27UcVY\">₹<!-- -->64,900</div>]\n",
      "[<div class=\"_3I9_wc _27UcVY\">₹<!-- -->79,900</div>]\n",
      "[<div class=\"_3I9_wc _27UcVY\">₹<!-- -->59,900</div>]\n",
      "[<div class=\"_3I9_wc _27UcVY\">₹<!-- -->64,900</div>]\n",
      "[<div class=\"_3I9_wc _27UcVY\">₹<!-- -->43,900</div>]\n",
      "[<div class=\"_3I9_wc _27UcVY\">₹<!-- -->69,900</div>]\n",
      "[<div class=\"_3I9_wc _27UcVY\">₹<!-- -->43,900</div>]\n",
      "[<div class=\"_3I9_wc _27UcVY\">₹<!-- -->48,900</div>]\n",
      "[<div class=\"_3I9_wc _27UcVY\">₹<!-- -->43,900</div>]\n",
      "[<div class=\"_3I9_wc _27UcVY\">₹<!-- -->79,900</div>]\n",
      "[<div class=\"_3I9_wc _27UcVY\">₹<!-- -->1,19,900</div>]\n",
      "[<div class=\"_3I9_wc _27UcVY\">₹<!-- -->43,900</div>]\n",
      "[<div class=\"_3I9_wc _27UcVY\">₹<!-- -->48,900</div>]\n",
      "[<div class=\"_3I9_wc _27UcVY\">₹<!-- -->79,900</div>]\n"
     ]
    }
   ],
   "source": [
    "for co in container:\n",
    "    a_price = co.findAll(\"div\",{\"class\":\"_3I9_wc _27UcVY\"})\n",
    "    print(a_price)"
   ]
  },
  {
   "cell_type": "code",
   "execution_count": 64,
   "id": "62a27719",
   "metadata": {},
   "outputs": [
    {
     "name": "stdout",
     "output_type": "stream",
     "text": [
      "4.5\n",
      "4.7\n",
      "4.6\n",
      "4.7\n",
      "4.6\n",
      "4.7\n",
      "4.6\n",
      "4.5\n",
      "4.7\n",
      "4.7\n",
      "4.5\n",
      "4.7\n",
      "4.5\n",
      "4.5\n",
      "4.6\n",
      "4.7\n",
      "4.6\n",
      "4.6\n",
      "4.6\n",
      "4.7\n",
      "4.5\n",
      "4.6\n",
      "4.6\n",
      "4.7\n"
     ]
    }
   ],
   "source": [
    "for co in container:\n",
    "    ratting = co.findAll(\"div\",{\"class\":\"_3LWZlK\"})\n",
    "    print(ratting[0].text)\n",
    "    "
   ]
  },
  {
   "cell_type": "code",
   "execution_count": 65,
   "id": "d7bf52db",
   "metadata": {},
   "outputs": [
    {
     "name": "stdout",
     "output_type": "stream",
     "text": [
      "1,21,001 Ratings & 9,696 Reviews\n",
      "1,71,573 Ratings & 9,360 Reviews\n",
      "1,74,065 Ratings & 10,330 Reviews\n",
      "1,71,573 Ratings & 9,360 Reviews\n",
      "1,74,065 Ratings & 10,330 Reviews\n",
      "1,71,573 Ratings & 9,360 Reviews\n",
      "1,74,065 Ratings & 10,330 Reviews\n",
      "1,21,001 Ratings & 9,696 Reviews\n",
      "1,71,573 Ratings & 9,360 Reviews\n",
      "1,71,573 Ratings & 9,360 Reviews\n",
      "1,21,001 Ratings & 9,696 Reviews\n",
      "1,71,573 Ratings & 9,360 Reviews\n",
      "1,21,001 Ratings & 9,696 Reviews\n",
      "1,21,001 Ratings & 9,696 Reviews\n",
      "1,74,065 Ratings & 10,330 Reviews\n",
      "1,71,573 Ratings & 9,360 Reviews\n",
      "1,74,065 Ratings & 10,330 Reviews\n",
      "1,74,065 Ratings & 10,330 Reviews\n",
      "1,74,065 Ratings & 10,330 Reviews\n",
      "1,71,573 Ratings & 9,360 Reviews\n",
      "1,187 Ratings & 86 Reviews\n",
      "1,74,065 Ratings & 10,330 Reviews\n",
      "1,74,065 Ratings & 10,330 Reviews\n",
      "1,71,573 Ratings & 9,360 Reviews\n"
     ]
    }
   ],
   "source": [
    "for co in container:\n",
    "    n_review = co.findAll(\"span\",{\"class\":\"_2_R_DZ\"})\n",
    "    print(n_review[0].text)"
   ]
  },
  {
   "cell_type": "code",
   "execution_count": 66,
   "id": "ab35df13",
   "metadata": {},
   "outputs": [
    {
     "name": "stdout",
     "output_type": "stream",
     "text": [
      "[<div class=\"_3Ay6Sb\"><span>36% off</span></div>]\n",
      "[<div class=\"_3Ay6Sb\"><span>9% off</span></div>]\n",
      "[<div class=\"_3Ay6Sb\"><span>10% off</span></div>]\n",
      "[<div class=\"_3Ay6Sb\"><span>9% off</span></div>]\n",
      "[<div class=\"_3Ay6Sb\"><span>5% off</span></div>]\n",
      "[<div class=\"_3Ay6Sb\"><span>9% off</span></div>]\n",
      "[<div class=\"_3Ay6Sb\"><span>5% off</span></div>]\n",
      "[<div class=\"_3Ay6Sb\"><span>36% off</span></div>]\n",
      "[<div class=\"_3Ay6Sb\"><span>9% off</span></div>]\n",
      "[<div class=\"_3Ay6Sb\"><span>12% off</span></div>]\n",
      "[<div class=\"_3Ay6Sb\"><span>32% off</span></div>]\n",
      "[<div class=\"_3Ay6Sb\"><span>12% off</span></div>]\n",
      "[<div class=\"_3Ay6Sb\"><span>36% off</span></div>]\n",
      "[<div class=\"_3Ay6Sb\"><span>32% off</span></div>]\n",
      "[<div class=\"_3Ay6Sb\"><span>6% off</span></div>]\n",
      "[<div class=\"_3Ay6Sb\"><span>9% off</span></div>]\n",
      "[<div class=\"_3Ay6Sb\"><span>6% off</span></div>]\n",
      "[<div class=\"_3Ay6Sb\"><span>5% off</span></div>]\n",
      "[<div class=\"_3Ay6Sb\"><span>6% off</span></div>]\n",
      "[<div class=\"_3Ay6Sb\"><span>12% off</span></div>]\n",
      "[<div class=\"_3Ay6Sb\"><span>26% off</span></div>]\n",
      "[<div class=\"_3Ay6Sb\"><span>6% off</span></div>]\n",
      "[<div class=\"_3Ay6Sb\"><span>5% off</span></div>]\n",
      "[<div class=\"_3Ay6Sb\"><span>12% off</span></div>]\n"
     ]
    }
   ],
   "source": [
    "for co in container:\n",
    "    offer = co.findAll(\"div\",{\"class\":\"_3Ay6Sb\"})\n",
    "    print(offer)"
   ]
  },
  {
   "cell_type": "code",
   "execution_count": null,
   "id": "8efd49c7",
   "metadata": {},
   "outputs": [],
   "source": []
  }
 ],
 "metadata": {
  "kernelspec": {
   "display_name": "Python 3 (ipykernel)",
   "language": "python",
   "name": "python3"
  },
  "language_info": {
   "codemirror_mode": {
    "name": "ipython",
    "version": 3
   },
   "file_extension": ".py",
   "mimetype": "text/x-python",
   "name": "python",
   "nbconvert_exporter": "python",
   "pygments_lexer": "ipython3",
   "version": "3.9.12"
  }
 },
 "nbformat": 4,
 "nbformat_minor": 5
}
